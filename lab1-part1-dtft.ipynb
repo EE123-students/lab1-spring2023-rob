{
 "cells": [
  {
   "cell_type": "markdown",
   "metadata": {},
   "source": [
    "# EE 123 Lab 1 - Basic Python and DTFT"
   ]
  },
  {
   "cell_type": "markdown",
   "metadata": {},
   "source": [
    "### General Jupyter Notebook Usage Instructions"
   ]
  },
  {
   "cell_type": "markdown",
   "metadata": {},
   "source": [
    "- Click the `Play` button to run and advance a cell. The short-cut for it is `Shift-Enter`\n",
    "- To add a new cell, either select `Insert->Insert New Cell Below` or type `b` key after select a cell\n",
    "- You can change the cell mode from code to text in the pulldown menu or entering `m`. Use `Markdown` for text\n",
    "- Use `y` to change back to code mode.\n",
    "- You can change the texts in the `Markdown` cells by double-clicking them.\n",
    "- To save your notebook, either select `File->Save and Checkpoint` or hit `Command-s` for Mac and `Ctrl-s` for Windows\n",
    "- To undo in each cell, hit `Command-z` for Mac and `Ctrl-z` for Windows\n",
    "- To undo `Delete Cell`, select `Edit->Undo Delete Cell` or type `z` key\n",
    "- `Help->Keyboard Shortcuts` has a list of keyboard shortcuts"
   ]
  },
  {
   "cell_type": "markdown",
   "metadata": {},
   "source": [
    "### Basic Python Questions:"
   ]
  },
  {
   "cell_type": "markdown",
   "metadata": {},
   "source": [
    "To complete this part of the lab, you will need to read and run the python tutorial `python_tutorial.ipynb`.\n",
    "\n",
    "Double-click the answer cell to add your answer. You can also insert a new cell by selecting `Insert->Insert New Cell Below` or typing the `b` key after selecting a cell."
   ]
  },
  {
   "cell_type": "markdown",
   "metadata": {},
   "source": [
    "__Q0.__ What do you add after a function to get the help window?"
   ]
  },
  {
   "cell_type": "markdown",
   "metadata": {},
   "source": [
    "__A0. You add a \"?\" after the function name__"
   ]
  },
  {
   "cell_type": "markdown",
   "metadata": {},
   "source": [
    "__Q1.__ What are the standard abbreviations for `numpy` and `matplotlib.pyplot` ?"
   ]
  },
  {
   "cell_type": "markdown",
   "metadata": {},
   "source": [
    "__A1. np and plt__\n",
    "\n"
   ]
  },
  {
   "cell_type": "markdown",
   "metadata": {},
   "source": [
    "__Q2.__ What is the output of the following commands?\n",
    "\n",
    "    x = np.array([1,2,3,4,5,6])\n",
    "    y = x[0:4]\n",
    "    y[0] = 7\n",
    "    print(x)"
   ]
  },
  {
   "cell_type": "code",
   "execution_count": 3,
   "metadata": {},
   "outputs": [
    {
     "name": "stdout",
     "output_type": "stream",
     "text": [
      "[7 2 3 4 5 6]\n"
     ]
    }
   ],
   "source": [
    "import numpy as np\n",
    "x = np.array([1,2,3,4,5,6])\n",
    "y = x[0:4]\n",
    "y[0] = 7\n",
    "print(x)\n"
   ]
  },
  {
   "cell_type": "markdown",
   "metadata": {},
   "source": [
    "__Q3.__ Write a code that prints `[5 4 3 2 1 0 1 2 3 4]`."
   ]
  },
  {
   "cell_type": "code",
   "execution_count": 5,
   "metadata": {},
   "outputs": [
    {
     "name": "stdout",
     "output_type": "stream",
     "text": [
      "[5 4 3 2 1 0 1 2 3 4]\n"
     ]
    }
   ],
   "source": [
    "# A3. Your code here:\n",
    "\n",
    "print(\"[5 4 3 2 1 0 1 2 3 4]\")"
   ]
  },
  {
   "cell_type": "markdown",
   "metadata": {},
   "source": [
    "__Q4.__ Write a code that prints out an array of every other integer from 0 to 4"
   ]
  },
  {
   "cell_type": "code",
   "execution_count": 9,
   "metadata": {},
   "outputs": [
    {
     "name": "stdout",
     "output_type": "stream",
     "text": [
      "[0, 2, 4]\n"
     ]
    }
   ],
   "source": [
    "# A4. Your code here:\n",
    "\n",
    "print(list(range(0,5,2)))\n",
    "    "
   ]
  },
  {
   "cell_type": "markdown",
   "metadata": {},
   "source": [
    "__Q5.__ Generate the same plot as in the following figure inline:\n",
    "    \n",
    "<img style=\"float: left;\" src=\"./tutorial_plot.jpg\">\n"
   ]
  },
  {
   "cell_type": "code",
   "execution_count": 14,
   "metadata": {},
   "outputs": [
    {
     "data": {
      "text/plain": [
       "<matplotlib.legend.Legend at 0x7f0e2571b160>"
      ]
     },
     "execution_count": 14,
     "metadata": {},
     "output_type": "execute_result"
    },
    {
     "data": {
      "image/png": "[encoded data removed]",
      "text/plain": [
       "<Figure size 432x288 with 1 Axes>"
      ]
     },
     "metadata": {
      "needs_background": "light"
     },
     "output_type": "display_data"
    }
   ],
   "source": [
    "# A5. \n",
    "import numpy as np\n",
    "import matplotlib.pyplot as plt\n",
    "%matplotlib inline\n",
    "\n",
    "x = np.r_[:1:0.01] # if you don't specify a number before the colon, the starting index defaults to 0\n",
    "y1 = np.exp( -x )\n",
    "y2 = np.sin( x*10.0 )/4.0 + 0.5\n",
    "\n",
    "# Your code here:\n",
    "plt.plot(x, y1, label='blue', color=\"blue\")\n",
    "plt.plot(x, y2, label='red', color=\"red\")\n",
    "plt.xlabel(\"time\")\n",
    "plt.ylabel(\"space\")\n",
    "plt.legend()\n"
   ]
  },
  {
   "cell_type": "markdown",
   "metadata": {},
   "source": [
    "## DTFT Questions"
   ]
  },
  {
   "cell_type": "markdown",
   "metadata": {},
   "source": [
    "In this part of the lab, we will look at the DTFT of rectangular windows and triangular windows and compare their performances as low-pass filters. There is a code template provided for each part to help you become familiar with numpy syntax."
   ]
  },
  {
   "cell_type": "markdown",
   "metadata": {},
   "source": [
    "### Part (a):"
   ]
  },
  {
   "cell_type": "code",
   "execution_count": 16,
   "metadata": {},
   "outputs": [],
   "source": [
    "# Import libraries\n",
    "import numpy as np\n",
    "import matplotlib.pyplot as plt\n",
    "%matplotlib inline"
   ]
  },
  {
   "cell_type": "markdown",
   "metadata": {},
   "source": [
    "Plot the DTFT (at least 512 points) of the rectangular window:\n",
    "\n",
    "<center>$$ w[n] = \\left \\{ \\begin{array}{cc} 1 & -N \\leq n \\leq N \\\\ 0 & \\mathrm{otherwise} \\end{array} \\right. $$ </center>\n",
    "\t\t\t\t\n",
    "for $ N=5,~20,~100$. Scale the DTFT so that $W(e^{j0})=1$ in your plots. Label your plots! \n",
    "\n",
    "Describe the effect of increasing $N$ on the DTFT.\n",
    "\n",
    "A code template is provided for each part"
   ]
  },
  {
   "cell_type": "code",
   "execution_count": 60,
   "metadata": {},
   "outputs": [],
   "source": [
    "N = 5\n",
    "t = np.r_[-N:N+1]\n",
    "a = np.ones(N)\n"
   ]
  },
  {
   "cell_type": "markdown",
   "metadata": {},
   "source": [
    "### Solution for (a):"
   ]
  },
  {
   "cell_type": "code",
   "execution_count": 86,
   "metadata": {},
   "outputs": [
    {
     "data": {
      "image/png": "[encoded data removed]",
      "text/plain": [
       "<Figure size 432x288 with 1 Axes>"
      ]
     },
     "metadata": {
      "needs_background": "light"
     },
     "output_type": "display_data"
    },
    {
     "data": {
      "image/png": "[encoded data removed]",
      "text/plain": [
       "<Figure size 432x288 with 1 Axes>"
      ]
     },
     "metadata": {
      "needs_background": "light"
     },
     "output_type": "display_data"
    },
    {
     "data": {
      "image/png": "[encoded data removed]",
      "text/plain": [
       "<Figure size 432x288 with 1 Axes>"
      ]
     },
     "metadata": {
      "needs_background": "light"
     },
     "output_type": "display_data"
    }
   ],
   "source": [
    "#repeat for N = 5, 20, 100\n",
    "for N in [5, 20, 100]:  \n",
    "\n",
    "    # create 2N+1-point temporal indices (NN) from -N to N using np.r_\n",
    "    NN = np.r_[-N:N+1:1]\n",
    "    # create window function (w) using np.ones\n",
    "    w = np.ones(2*N + 1)\n",
    "    # create 512-point frequency indices (Omega) from -pi to pi (use np.pi)\n",
    "    Omega = np.arange(-np.pi, np.pi, 2*np.pi/512)\n",
    "    # create matrix of appropriate temporal indices (n) and frequency indices (omega) using np.meshgrid\n",
    "    n,omega = np.meshgrid(NN, Omega)\n",
    "\n",
    "    # create DTFT matrix \n",
    "    #W_kn = e^(-j(2pik/N)n)\n",
    "    DTFT = np.exp(-1j*n*omega)\n",
    "\n",
    "    # evaluate DTFT\n",
    "    W = DTFT @ NN\n",
    "\n",
    "    # normalize W such that W at omega=0 is 1\n",
    "    W = W/(2*N-1)\n",
    "\n",
    "    # create plots\n",
    "    # plot both real and imag on the same figure ( use W.real and W.imag )\n",
    "    # Your code here\n",
    "    plt.figure()\n",
    "    plt.plot(Omega, W.real, label='real', color='blue')\n",
    "    plt.plot(Omega, W.imag, label='imag', color='orange')\n",
    "\n",
    "    # End of your code\n",
    "    \n",
    "    # label plots and put title and legends ( use plt.xlabel, plt.title, plt.legend )\n",
    "    # Your code here:\n",
    "    plt.xlabel(\"omega\")\n",
    "    plt.ylabel(\"W(e^(j*omega))\")\n",
    "    plt.title(f\"DTFT of window of N={N}\")\n",
    "    plt.legend()\n"
   ]
  },
  {
   "cell_type": "markdown",
   "metadata": {},
   "source": [
    "Describe the effect of increasing $N$ on the DTFT of the rectangular window."
   ]
  },
  {
   "cell_type": "markdown",
   "metadata": {},
   "source": [
    "**Your answer here:**\n",
    "\n",
    "Increasing N on the DTFT of the rectangular window seems to \n",
    "\n"
   ]
  },
  {
   "cell_type": "markdown",
   "metadata": {},
   "source": [
    "### Part (b): "
   ]
  },
  {
   "cell_type": "markdown",
   "metadata": {},
   "source": [
    "Repeat part (a) for the triangular window:\n",
    "$$w_\\triangle [n] =  \\left ( 1- \\frac{|n|}{N} \\right ) w[n].$$"
   ]
  },
  {
   "cell_type": "markdown",
   "metadata": {},
   "source": [
    "### Solution for (b):"
   ]
  },
  {
   "cell_type": "code",
   "execution_count": 7,
   "metadata": {},
   "outputs": [],
   "source": [
    "#repeat for N = 5, 20, 100\n",
    "for N in [5, 20, 100]:  \n",
    "\n",
    "    # create 2N+1-point temporal indices (NN) from -N to N using np.r_\n",
    "    NN = # TODO\n",
    "    # create window function (w) \n",
    "    w = # TODO\n",
    "    # create 512-point frequency indices (Omega) from -pi to pi (use np.pi)\n",
    "    Omega = # TODO\n",
    "    # create matrix of appropriate temporal indices (n) and frequency indices (omega) using np.meshgrid\n",
    "    n,omega = # TODO\n",
    "    # create DTFT matrix \n",
    "    DTFT = # TODO\n",
    "\n",
    "    # evaluate DTFT\n",
    "    W = # TODO\n",
    "\n",
    "    # normalize W such that W at omega=0 is 1\n",
    "    W = # TODO\n",
    "    \n",
    "    # create plots\n",
    "    # plot both real and imag on the same figure ( use W.real and W.imag )\n",
    "    # Your code here:\n",
    "\n",
    "    # End of your code\n",
    "\n",
    "    # label plots and put title and legends ( use plt.xlabel, plt.title, plt.legend )\n",
    "    # Your code here:\n",
    "\n"
   ]
  },
  {
   "cell_type": "markdown",
   "metadata": {},
   "source": [
    "Describe the effect of increasing $N$ on the DTFT of the triangular window."
   ]
  },
  {
   "cell_type": "markdown",
   "metadata": {},
   "source": [
    "**Your answer here:**\n",
    "\n"
   ]
  },
  {
   "cell_type": "markdown",
   "metadata": {},
   "source": [
    "### Part (c):"
   ]
  },
  {
   "cell_type": "markdown",
   "metadata": {},
   "source": [
    "Consider the ideal low-pass filter with cut-off frequency $\\omega_c = 0.3 \\pi$. Truncate the impulse response of this filter using the windows in parts (a) and (b), and plot the frequency response of the resulting filters. Explain the differences.\n"
   ]
  },
  {
   "cell_type": "markdown",
   "metadata": {},
   "source": [
    "### Solution for (c):"
   ]
  },
  {
   "cell_type": "code",
   "execution_count": 8,
   "metadata": {},
   "outputs": [],
   "source": [
    "#repeat for N = 5, 20, 100\n",
    "for N in [5, 20, 100]:  \n",
    "\n",
    "    # create 2N+1-point temporal indices (NN) from -N to N using np.r_\n",
    "    NN = # TODO\n",
    "    # create window function (w) \n",
    "    w = # TODO\n",
    "    # create windowed low-pass filter (h) \n",
    "    h = # TODO\n",
    "    # create 512-point frequency indices (Omega) from -pi to pi (use np.pi)\n",
    "    Omega = # TODO\n",
    "    # create matrix of appropriate temporal indices (n) and frequency indices (omega) using np.meshgrid\n",
    "    n,omega = # TODO\n",
    "    # create DTFT matrix \n",
    "    DTFT = # TODO\n",
    "\n",
    "    # evaluate DTFT\n",
    "    H = # TODO\n",
    "\n",
    "    # normalize H such that H at omega=0 is 1\n",
    "    H = # TODO\n",
    "    # create plots\n",
    "    # plot both real and imag on the same figure ( use H.real and H.imag )\n",
    "    # Your code here:\n",
    "\n",
    "    # End of your code\n",
    "\n",
    "    # label plots and put title and legends ( use plt.xlabel, plt.title, plt.legend )\n",
    "    # Your code here:\n",
    "\n"
   ]
  },
  {
   "cell_type": "code",
   "execution_count": 9,
   "metadata": {},
   "outputs": [],
   "source": [
    "#repeat for N = 5, 20, 100\n",
    "for N in [5, 20, 100]:  \n",
    "\n",
    "    # create 2N+1-point temporal indices (NN) from -N to N using np.r_\n",
    "    NN = # TODO\n",
    "    # create window function (w) \n",
    "    w = # TODO\n",
    "    # create windowed low-pass filter (h) \n",
    "    h = # TODO\n",
    "    # create 512-point frequency indices (Omega) from -pi to pi (use np.pi)\n",
    "    Omega = # TODO\n",
    "    # create matrix of appropriate temporal indices (n) and frequency indices (omega) using np.meshgrid\n",
    "    n,omega = # TODO\n",
    "    # create DTFT matrix \n",
    "    DTFT = # TODO\n",
    "\n",
    "    # evaluate DTFT\n",
    "    H = # TODO\n",
    "\n",
    "    # normalize H such that H at omega=0 is 1\n",
    "    H = # TODO\n",
    "    # create plots\n",
    "    # plot both real and imag on the same figure ( use H.real and H.imag )\n",
    "    # Your code here:\n",
    "\n",
    "    # End of your code\n",
    "    \n",
    "    # label plots and put title and legends ( use plt.xlabel, plt.title, plt.legend )\n",
    "    # Your code here:\n",
    "\n"
   ]
  },
  {
   "cell_type": "markdown",
   "metadata": {},
   "source": [
    "Explain the difference."
   ]
  },
  {
   "cell_type": "markdown",
   "metadata": {},
   "source": [
    "**Your answer here:**\n",
    "\n"
   ]
  },
  {
   "cell_type": "code",
   "execution_count": null,
   "metadata": {},
   "outputs": [],
   "source": []
  }
 ],
 "metadata": {
  "kernelspec": {
   "display_name": "Python 3 (ipykernel)",
   "language": "python",
   "name": "python3"
  },
  "language_info": {
   "codemirror_mode": {
    "name": "ipython",
    "version": 3
   },
   "file_extension": ".py",
   "mimetype": "text/x-python",
   "name": "python",
   "nbconvert_exporter": "python",
   "pygments_lexer": "ipython3",
   "version": "3.10.6"
  }
 },
 "nbformat": 4,
 "nbformat_minor": 1
}
